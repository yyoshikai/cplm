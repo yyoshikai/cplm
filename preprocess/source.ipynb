{
 "cells": [
  {
   "cell_type": "code",
   "execution_count": null,
   "metadata": {},
   "outputs": [],
   "source": []
  },
  {
   "cell_type": "code",
   "execution_count": null,
   "metadata": {},
   "outputs": [
    {
     "name": "stdout",
     "output_type": "stream",
     "text": [
      "[250522 20:21:52][matplotlib][DEBUG]matplotlib data path: /workspace/envs/cu124/3.11.9/241/lib/python3.11/site-packages/matplotlib/mpl-data\n",
      "[250522 20:21:52][matplotlib][DEBUG]CONFIGDIR=/home/creator2/.config/matplotlib\n",
      "[250522 20:21:52][matplotlib][DEBUG]interactive is False\n",
      "[250522 20:21:52][matplotlib][DEBUG]platform is linux\n",
      "[250522 20:21:52][matplotlib][DEBUG]CACHEDIR=/home/creator2/.cache/matplotlib\n",
      "[250522 20:21:52][matplotlib.font_manager][DEBUG]Using fontManager instance from /home/creator2/.cache/matplotlib/fontlist-v390.json\n"
     ]
    }
   ],
   "source": [
    "import sys, os, math, random, itertools, pickle, logging, yaml, psutil\n",
    "from collections import defaultdict\n",
    "import concurrent.futures as cf\n",
    "from tqdm import tqdm\n",
    "from addict import Dict\n",
    "import numpy as np, pandas as pd\n",
    "sys.path.append('/workspace')\n",
    "from tools.logger import add_stream_handler, get_logger\n",
    "logger = get_logger()\n",
    "add_stream_handler(logger, logging.DEBUG)\n",
    "\n",
    "import matplotlib.pyplot as plt\n",
    "from tools.graph import tightargs, errorbarargs, COLORS2, setfont2, get_scatter_style\n",
    "setfont2()\n",
    "\n",
    "\n",
    "sys.path.append(\"/workspace/cplm\")"
   ]
  },
  {
   "cell_type": "markdown",
   "metadata": {},
   "source": [
    "## 色々なデータセットの長さを比較"
   ]
  },
  {
   "cell_type": "code",
   "execution_count": 16,
   "metadata": {},
   "outputs": [],
   "source": [
    "def draw_compare_length(datasets, labels, nbin, range, n_sample, save_path=None, seed=0):\n",
    "    rng = np.random.default_rng(seed)\n",
    "    fig, ax = plt.subplots(1,1,figsize=(7,5))\n",
    "    for idata, dataset in enumerate(datasets):\n",
    "        L = len(dataset)\n",
    "        if L > n_sample: idxs = rng.choice(L, size=n_sample, replace=False)\n",
    "        else: idxs = np.arange(L, dtype=int)\n",
    "        ls = [len(dataset[idx]) for idx in tqdm(idxs)]\n",
    "        ax.hist(ls, bins=nbin, range=range, alpha=0.5, label=labels[idata])\n",
    "    ax.set_xlim(range[0], range[1])\n",
    "    ax.legend()\n",
    "    if save_path is not None:\n",
    "        fig.savefig(save_path, **tightargs)\n",
    "    return fig, ax\n"
   ]
  },
  {
   "cell_type": "code",
   "execution_count": 17,
   "metadata": {},
   "outputs": [
    {
     "name": "stderr",
     "output_type": "stream",
     "text": [
      "100%|██████████| 1000/1000 [00:00<00:00, 1082.70it/s]\n",
      "100%|██████████| 1000/1000 [00:00<00:00, 4842.85it/s]\n",
      "100%|██████████| 1000/1000 [00:00<00:00, 3089.83it/s]\n"
     ]
    },
    {
     "data": {
      "text/plain": [
       "(<Figure size 700x500 with 1 Axes>, <Axes: >)"
      ]
     },
     "execution_count": 17,
     "metadata": {},
     "output_type": "execute_result"
    },
    {
     "data": {
      "image/png": "[encoded data removed]",
      "text/plain": [
       "<Figure size 700x500 with 1 Axes>"
      ]
     },
     "metadata": {},
     "output_type": "display_data"
    }
   ],
   "source": [
    "from src.data import UniMolLigandDataset, MoleculeDataset, UniMolPocketDataset, ProteinDataset\n",
    "from src.data import CoordTransform, StringTokenizer, FloatTokenizer, ProteinAtomTokenizer\n",
    "# LigandDataset, Pocket(coord_heavyなし)\n",
    "coord_range = 250\n",
    "tokenizer_log_interval = 1e6\n",
    "\n",
    "coord_transform = CoordTransform(0, True, True, 50)\n",
    "smiles_tokenizer = StringTokenizer(open(\"/workspace/cplm/src/data/smiles_tokens.txt\").read().splitlines())\n",
    "coord_tokenizer = FloatTokenizer(-coord_range, coord_range, log_interval=tokenizer_log_interval)\n",
    "protein_atom_tokenizer = ProteinAtomTokenizer(log_interval=tokenizer_log_interval)\n",
    "\n",
    "ligand = UniMolLigandDataset(\"/workspace/cheminfodata/unimol/ligands/train.lmdb\", 10, atom_h=True)\n",
    "ligand = MoleculeDataset(ligand, coord_transform, smiles_tokenizer, coord_tokenizer)\n",
    "\n",
    "\n",
    "pocket_base = UniMolPocketDataset(\"/workspace/cheminfodata/unimol/pockets/train.lmdb\", key_is_indexed=True)\n",
    "pocket = ProteinDataset(pocket_base, protein_atom_tokenizer, coord_tokenizer, coord_transform, \n",
    "    atom_heavy=True, coord_heavy=False, atom_h=False, coord_h=False, )\n",
    "\n",
    "pocket_coord_heavy = ProteinDataset(pocket_base, protein_atom_tokenizer, coord_tokenizer, coord_transform, \n",
    "    atom_heavy=True, coord_heavy=True, atom_h=False, coord_h=False, )\n",
    "\n",
    "draw_compare_length([ligand, pocket, pocket_coord_heavy], ['ligand', 'pocket', 'pocket\\n(heavy atom coordinate)'],\n",
    "    50, (0, 1000), 1000)\n"
   ]
  },
  {
   "cell_type": "markdown",
   "metadata": {},
   "source": [
    "## 241219 分割して処理したのを確認する。\n",
    "... 大丈夫そうだった。"
   ]
  },
  {
   "cell_type": "code",
   "execution_count": 8,
   "metadata": {},
   "outputs": [],
   "source": [
    "from src.utils.lmdb import load_lmdb\n",
    "from rdkit import Chem"
   ]
  },
  {
   "cell_type": "code",
   "execution_count": 4,
   "metadata": {},
   "outputs": [],
   "source": [
    "\n",
    "df = pd.read_csv(\"results/finetune/r4_all/filenames.csv\", index_col=0)\n",
    "dfs = df.sample(n=5, axis=0)\n",
    "env, txn = load_lmdb(\"results/finetune/r4_all/main.lmdb\")"
   ]
  },
  {
   "cell_type": "code",
   "execution_count": 17,
   "metadata": {},
   "outputs": [
    {
     "name": "stdout",
     "output_type": "stream",
     "text": [
      "True\n",
      "True\n",
      "True\n",
      "True\n"
     ]
    },
    {
     "name": "stderr",
     "output_type": "stream",
     "text": [
      "[21:08:13] Warning: molecule is tagged as 2D, but at least one Z coordinate is not zero. Marking the mol as 3D.\n",
      "[21:08:13] Warning: molecule is tagged as 2D, but at least one Z coordinate is not zero. Marking the mol as 3D.\n",
      "[21:08:13] Warning: molecule is tagged as 2D, but at least one Z coordinate is not zero. Marking the mol as 3D.\n",
      "[21:08:13] Warning: molecule is tagged as 2D, but at least one Z coordinate is not zero. Marking the mol as 3D.\n",
      "[21:08:13] Warning: molecule is tagged as 2D, but at least one Z coordinate is not zero. Marking the mol as 3D.\n",
      "[21:08:13] Warning: molecule is tagged as 2D, but at least one Z coordinate is not zero. Marking the mol as 3D.\n",
      "[21:08:13] Warning: molecule is tagged as 2D, but at least one Z coordinate is not zero. Marking the mol as 3D.\n",
      "[21:08:13] Warning: molecule is tagged as 2D, but at least one Z coordinate is not zero. Marking the mol as 3D.\n",
      "[21:08:13] Warning: molecule is tagged as 2D, but at least one Z coordinate is not zero. Marking the mol as 3D.\n",
      "[21:08:13] Warning: molecule is tagged as 2D, but at least one Z coordinate is not zero. Marking the mol as 3D.\n",
      "[21:08:13] Warning: molecule is tagged as 2D, but at least one Z coordinate is not zero. Marking the mol as 3D.\n",
      "[21:08:13] Warning: molecule is tagged as 2D, but at least one Z coordinate is not zero. Marking the mol as 3D.\n",
      "[21:08:13] Warning: molecule is tagged as 2D, but at least one Z coordinate is not zero. Marking the mol as 3D.\n",
      "[21:08:13] Warning: molecule is tagged as 2D, but at least one Z coordinate is not zero. Marking the mol as 3D.\n",
      "[21:08:13] Warning: molecule is tagged as 2D, but at least one Z coordinate is not zero. Marking the mol as 3D.\n",
      "[21:08:13] Warning: molecule is tagged as 2D, but at least one Z coordinate is not zero. Marking the mol as 3D.\n",
      "[21:08:13] Warning: molecule is tagged as 2D, but at least one Z coordinate is not zero. Marking the mol as 3D.\n",
      "[21:08:13] Warning: molecule is tagged as 2D, but at least one Z coordinate is not zero. Marking the mol as 3D.\n",
      "[21:08:13] Warning: molecule is tagged as 2D, but at least one Z coordinate is not zero. Marking the mol as 3D.\n",
      "[21:08:13] Warning: molecule is tagged as 2D, but at least one Z coordinate is not zero. Marking the mol as 3D.\n",
      "[21:08:13] Warning: molecule is tagged as 2D, but at least one Z coordinate is not zero. Marking the mol as 3D.\n",
      "[21:08:13] Warning: molecule is tagged as 2D, but at least one Z coordinate is not zero. Marking the mol as 3D.\n",
      "[21:08:13] Warning: molecule is tagged as 2D, but at least one Z coordinate is not zero. Marking the mol as 3D.\n",
      "[21:08:13] Warning: molecule is tagged as 2D, but at least one Z coordinate is not zero. Marking the mol as 3D.\n",
      "[21:08:13] Warning: molecule is tagged as 2D, but at least one Z coordinate is not zero. Marking the mol as 3D.\n",
      "[21:08:13] Warning: molecule is tagged as 2D, but at least one Z coordinate is not zero. Marking the mol as 3D.\n",
      "[21:08:13] Warning: molecule is tagged as 2D, but at least one Z coordinate is not zero. Marking the mol as 3D.\n",
      "[21:08:13] Warning: molecule is tagged as 2D, but at least one Z coordinate is not zero. Marking the mol as 3D.\n",
      "[21:08:13] Warning: molecule is tagged as 2D, but at least one Z coordinate is not zero. Marking the mol as 3D.\n",
      "[21:08:13] Warning: molecule is tagged as 2D, but at least one Z coordinate is not zero. Marking the mol as 3D.\n",
      "[21:08:13] Warning: molecule is tagged as 2D, but at least one Z coordinate is not zero. Marking the mol as 3D.\n",
      "[21:08:13] Warning: molecule is tagged as 2D, but at least one Z coordinate is not zero. Marking the mol as 3D.\n",
      "[21:08:13] Warning: molecule is tagged as 2D, but at least one Z coordinate is not zero. Marking the mol as 3D.\n",
      "[21:08:13] Warning: molecule is tagged as 2D, but at least one Z coordinate is not zero. Marking the mol as 3D.\n",
      "[21:08:13] Warning: molecule is tagged as 2D, but at least one Z coordinate is not zero. Marking the mol as 3D.\n",
      "[21:08:13] Warning: molecule is tagged as 2D, but at least one Z coordinate is not zero. Marking the mol as 3D.\n",
      "[21:08:13] Warning: molecule is tagged as 2D, but at least one Z coordinate is not zero. Marking the mol as 3D.\n",
      "[21:08:13] Warning: molecule is tagged as 2D, but at least one Z coordinate is not zero. Marking the mol as 3D.\n",
      "[21:08:13] Warning: molecule is tagged as 2D, but at least one Z coordinate is not zero. Marking the mol as 3D.\n",
      "[21:08:13] Warning: molecule is tagged as 2D, but at least one Z coordinate is not zero. Marking the mol as 3D.\n"
     ]
    },
    {
     "name": "stdout",
     "output_type": "stream",
     "text": [
      "True\n"
     ]
    }
   ],
   "source": [
    "\n",
    "for idx in dfs.index:\n",
    "    data = pickle.loads(txn.get(str(idx).encode('ascii')))\n",
    "    \n",
    "    dname = dfs.loc[idx, 'dname']\n",
    "    lname = dfs.loc[idx, 'lig_name']\n",
    "    sdf_idx = dfs.loc[idx, 'sdf_idx']\n",
    "    mol = list(Chem.SDMolSupplier(f\"/workspace/cheminfodata/crossdocked/CrossDocked2020/{dname}/{lname}\"))[sdf_idx]\n",
    "    print(Chem.MolToSmiles(mol) == Chem.MolToSmiles(Chem.RemoveHs(data['lig_mol'])))"
   ]
  },
  {
   "cell_type": "code",
   "execution_count": 16,
   "metadata": {},
   "outputs": [
    {
     "name": "stdout",
     "output_type": "stream",
     "text": [
      "Oc1cc(Cl)ccc1Oc1ccc(Cl)cc1Cl\n",
      "Oc1cc(Cl)ccc1Oc1ccc(Cl)cc1Cl\n"
     ]
    }
   ],
   "source": [
    "print(Chem.MolToSmiles(mol))\n",
    "print(Chem.MolToSmiles(Chem.RemoveHs(data['lig_mol'])))"
   ]
  },
  {
   "cell_type": "code",
   "execution_count": 13,
   "metadata": {},
   "outputs": [
    {
     "data": {
      "text/html": [
       "<div>\n",
       "<style scoped>\n",
       "    .dataframe tbody tr th:only-of-type {\n",
       "        vertical-align: middle;\n",
       "    }\n",
       "\n",
       "    .dataframe tbody tr th {\n",
       "        vertical-align: top;\n",
       "    }\n",
       "\n",
       "    .dataframe thead th {\n",
       "        text-align: right;\n",
       "    }\n",
       "</style>\n",
       "<table border=\"1\" class=\"dataframe\">\n",
       "  <thead>\n",
       "    <tr style=\"text-align: right;\">\n",
       "      <th></th>\n",
       "      <th>dname</th>\n",
       "      <th>lig_name</th>\n",
       "      <th>protein_name</th>\n",
       "      <th>sdf_idx</th>\n",
       "    </tr>\n",
       "    <tr>\n",
       "      <th>idx</th>\n",
       "      <th></th>\n",
       "      <th></th>\n",
       "      <th></th>\n",
       "      <th></th>\n",
       "    </tr>\n",
       "  </thead>\n",
       "  <tbody>\n",
       "    <tr>\n",
       "      <th>0</th>\n",
       "      <td>1433B_HUMAN_1_240_pep_0</td>\n",
       "      <td>2bq0_A_rec_5f74_amp_lig_it1_it2_tt_docked.sdf</td>\n",
       "      <td>2bq0_A_rec.pdb</td>\n",
       "      <td>1</td>\n",
       "    </tr>\n",
       "    <tr>\n",
       "      <th>1</th>\n",
       "      <td>1433B_HUMAN_1_240_pep_0</td>\n",
       "      <td>2bq0_A_rec_5f74_amp_lig_it1_it2_tt_docked.sdf</td>\n",
       "      <td>2bq0_A_rec.pdb</td>\n",
       "      <td>2</td>\n",
       "    </tr>\n",
       "    <tr>\n",
       "      <th>2</th>\n",
       "      <td>1433B_HUMAN_1_240_pep_0</td>\n",
       "      <td>2bq0_A_rec_5f74_amp_lig_it1_it2_tt_docked.sdf</td>\n",
       "      <td>2bq0_A_rec.pdb</td>\n",
       "      <td>3</td>\n",
       "    </tr>\n",
       "    <tr>\n",
       "      <th>3</th>\n",
       "      <td>1433B_HUMAN_1_240_pep_0</td>\n",
       "      <td>2bq0_A_rec_5f74_amp_lig_it1_it2_tt_docked.sdf</td>\n",
       "      <td>2bq0_A_rec.pdb</td>\n",
       "      <td>5</td>\n",
       "    </tr>\n",
       "    <tr>\n",
       "      <th>4</th>\n",
       "      <td>1433B_HUMAN_1_240_pep_0</td>\n",
       "      <td>2bq0_A_rec_5f74_amp_lig_it1_it2_tt_docked.sdf</td>\n",
       "      <td>2bq0_A_rec.pdb</td>\n",
       "      <td>6</td>\n",
       "    </tr>\n",
       "  </tbody>\n",
       "</table>\n",
       "</div>"
      ],
      "text/plain": [
       "                       dname                                       lig_name  \\\n",
       "idx                                                                           \n",
       "0    1433B_HUMAN_1_240_pep_0  2bq0_A_rec_5f74_amp_lig_it1_it2_tt_docked.sdf   \n",
       "1    1433B_HUMAN_1_240_pep_0  2bq0_A_rec_5f74_amp_lig_it1_it2_tt_docked.sdf   \n",
       "2    1433B_HUMAN_1_240_pep_0  2bq0_A_rec_5f74_amp_lig_it1_it2_tt_docked.sdf   \n",
       "3    1433B_HUMAN_1_240_pep_0  2bq0_A_rec_5f74_amp_lig_it1_it2_tt_docked.sdf   \n",
       "4    1433B_HUMAN_1_240_pep_0  2bq0_A_rec_5f74_amp_lig_it1_it2_tt_docked.sdf   \n",
       "\n",
       "       protein_name  sdf_idx  \n",
       "idx                           \n",
       "0    2bq0_A_rec.pdb        1  \n",
       "1    2bq0_A_rec.pdb        2  \n",
       "2    2bq0_A_rec.pdb        3  \n",
       "3    2bq0_A_rec.pdb        5  \n",
       "4    2bq0_A_rec.pdb        6  "
      ]
     },
     "execution_count": 13,
     "metadata": {},
     "output_type": "execute_result"
    }
   ],
   "source": [
    "df.head()"
   ]
  },
  {
   "cell_type": "code",
   "execution_count": null,
   "metadata": {},
   "outputs": [],
   "source": []
  }
 ],
 "metadata": {
  "kernelspec": {
   "display_name": "241",
   "language": "python",
   "name": "python3"
  },
  "language_info": {
   "codemirror_mode": {
    "name": "ipython",
    "version": 3
   },
   "file_extension": ".py",
   "mimetype": "text/x-python",
   "name": "python",
   "nbconvert_exporter": "python",
   "pygments_lexer": "ipython3",
   "version": "3.11.9"
  }
 },
 "nbformat": 4,
 "nbformat_minor": 2
}
