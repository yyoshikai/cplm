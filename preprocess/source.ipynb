{
 "cells": [
  {
   "cell_type": "code",
   "execution_count": null,
   "metadata": {},
   "outputs": [],
   "source": []
  },
  {
   "cell_type": "code",
   "execution_count": 1,
   "metadata": {},
   "outputs": [
    {
     "ename": "TypeError",
     "evalue": "in method 'OBMessageHandler_SetOutputStream', argument 2 of type 'std::ostream *'",
     "output_type": "error",
     "traceback": [
      "\u001b[0;31m---------------------------------------------------------------------------\u001b[0m",
      "\u001b[0;31mTypeError\u001b[0m                                 Traceback (most recent call last)",
      "Cell \u001b[0;32mIn[1], line 5\u001b[0m\n\u001b[1;32m      2\u001b[0m \u001b[38;5;28;01mfrom\u001b[39;00m \u001b[38;5;21;01mopenbabel\u001b[39;00m \u001b[38;5;28;01mimport\u001b[39;00m openbabel, pybel\n\u001b[1;32m      4\u001b[0m obmhandler \u001b[38;5;241m=\u001b[39m openbabel\u001b[38;5;241m.\u001b[39mOBMessageHandler()\n\u001b[0;32m----> 5\u001b[0m \u001b[43mobmhandler\u001b[49m\u001b[38;5;241;43m.\u001b[39;49m\u001b[43mSetOutputStream\u001b[49m\u001b[43m(\u001b[49m\u001b[43msys\u001b[49m\u001b[38;5;241;43m.\u001b[39;49m\u001b[43mstdout\u001b[49m\u001b[43m)\u001b[49m\n",
      "\u001b[0;31mTypeError\u001b[0m: in method 'OBMessageHandler_SetOutputStream', argument 2 of type 'std::ostream *'"
     ]
    }
   ],
   "source": [
    "import sys\n",
    "from openbabel import openbabel, pybel\n",
    "\n",
    "obmhandler = openbabel.OBMessageHandler()\n",
    "obmhandler.SetOutputStream(sys.stdout)\n"
   ]
  },
  {
   "cell_type": "code",
   "execution_count": null,
   "metadata": {},
   "outputs": [],
   "source": []
  }
 ],
 "metadata": {
  "kernelspec": {
   "display_name": "241",
   "language": "python",
   "name": "241"
  },
  "language_info": {
   "codemirror_mode": {
    "name": "ipython",
    "version": 3
   },
   "file_extension": ".py",
   "mimetype": "text/x-python",
   "name": "python",
   "nbconvert_exporter": "python",
   "pygments_lexer": "ipython3",
   "version": "3.11.9"
  }
 },
 "nbformat": 4,
 "nbformat_minor": 2
}
